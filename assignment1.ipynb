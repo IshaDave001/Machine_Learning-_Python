{
 "cells": [
  {
   "cell_type": "code",
   "execution_count": 4,
   "id": "aff976db-6564-49c3-a0ca-db44fc74d85a",
   "metadata": {},
   "outputs": [],
   "source": [
    "from numpy import *"
   ]
  },
  {
   "cell_type": "code",
   "execution_count": 5,
   "id": "8ab5ce9b-4f87-4a38-8dac-5c30be96ea4b",
   "metadata": {},
   "outputs": [
    {
     "name": "stdout",
     "output_type": "stream",
     "text": [
      "[[1 2 3 4]\n",
      " [5 6 7 8]]\n"
     ]
    }
   ],
   "source": [
    "a = array([[1,2,3,4],[5,6,7,8]])\n",
    "print(a)"
   ]
  },
  {
   "cell_type": "code",
   "execution_count": 6,
   "id": "5e39f70f-4a59-4891-8927-f2d5606a9ef9",
   "metadata": {},
   "outputs": [
    {
     "name": "stdout",
     "output_type": "stream",
     "text": [
      "(2, 4)\n"
     ]
    }
   ],
   "source": [
    "print(a.shape) # shape : It is used find the dimensional shape of the array"
   ]
  },
  {
   "cell_type": "code",
   "execution_count": 7,
   "id": "ec51dc4e-27ad-4e48-934e-b2acf36f0514",
   "metadata": {},
   "outputs": [
    {
     "name": "stdout",
     "output_type": "stream",
     "text": [
      "ndim 2\n"
     ]
    }
   ],
   "source": [
    "#ndim : returns an integer that tells us how many dimensions the array have.\n",
    "print(\"ndim\",a.ndim)"
   ]
  },
  {
   "cell_type": "code",
   "execution_count": 8,
   "id": "bbf10780-8208-4979-813b-683da39427a2",
   "metadata": {},
   "outputs": [
    {
     "name": "stdout",
     "output_type": "stream",
     "text": [
      "Size :  8\n"
     ]
    }
   ],
   "source": [
    "#size : return the size of the array\n",
    "print(\"Size : \",a.size)"
   ]
  },
  {
   "cell_type": "code",
   "execution_count": 9,
   "id": "36fc511d-2d63-43bc-88b8-24a9ad415c7c",
   "metadata": {},
   "outputs": [
    {
     "name": "stdout",
     "output_type": "stream",
     "text": [
      "datatype :  int64\n"
     ]
    }
   ],
   "source": [
    "#dtype : return the datatype of the array\n",
    "print(\"datatype : \",a.dtype)"
   ]
  },
  {
   "cell_type": "code",
   "execution_count": 10,
   "id": "df760215-906d-4c71-a95d-7a7f7b43a071",
   "metadata": {},
   "outputs": [
    {
     "name": "stdout",
     "output_type": "stream",
     "text": [
      "8\n"
     ]
    }
   ],
   "source": [
    "#itemsize : The element size of this data-type object\n",
    "print(a.itemsize)"
   ]
  },
  {
   "cell_type": "code",
   "execution_count": 11,
   "id": "9a652d52-a9b0-4457-940f-3705895dd232",
   "metadata": {},
   "outputs": [
    {
     "name": "stdout",
     "output_type": "stream",
     "text": [
      "<memory at 0x0000020AA1D29150>\n"
     ]
    }
   ],
   "source": [
    "print(a.data)"
   ]
  },
  {
   "cell_type": "code",
   "execution_count": 12,
   "id": "47a7bca4-09d3-47cc-bb54-292e51977be5",
   "metadata": {},
   "outputs": [
    {
     "name": "stdout",
     "output_type": "stream",
     "text": [
      "[[1 2]\n",
      " [3 4]]\n",
      "[[5 6]\n",
      " [7 8]]\n"
     ]
    }
   ],
   "source": [
    "m1 = array([[1,2],[3,4]])\n",
    "m2 = array([[5,6],[7,8]])\n",
    "print(m1)\n",
    "print(m2)"
   ]
  },
  {
   "cell_type": "code",
   "execution_count": 13,
   "id": "6c5965a4-2913-4b71-9d32-262486b9666d",
   "metadata": {},
   "outputs": [
    {
     "name": "stdout",
     "output_type": "stream",
     "text": [
      "[[19 22]\n",
      " [43 50]]\n"
     ]
    }
   ],
   "source": [
    "#dot : return the multiplication of the matrix\n",
    "mul = dot(m1,m2)\n",
    "print(mul)"
   ]
  },
  {
   "cell_type": "code",
   "execution_count": 14,
   "id": "d817adf8-c84b-4526-a1e9-b32133979539",
   "metadata": {},
   "outputs": [
    {
     "name": "stdout",
     "output_type": "stream",
     "text": [
      "[[ 5 12]\n",
      " [21 32]]\n"
     ]
    }
   ],
   "source": [
    "#multiply : it only multiply the elements\n",
    "mult = multiply(m1,m2) #only multiplication\n",
    "print(mult)"
   ]
  },
  {
   "cell_type": "code",
   "execution_count": 15,
   "id": "50a73e8a-5661-4de0-953e-e0836731f3a4",
   "metadata": {},
   "outputs": [
    {
     "name": "stdout",
     "output_type": "stream",
     "text": [
      "[[4 4]\n",
      " [4 4]]\n"
     ]
    }
   ],
   "source": [
    "#subtract : will subtract the matrix\n",
    "subtrac = subtract(m2,m1)\n",
    "print(subtrac)"
   ]
  },
  {
   "cell_type": "code",
   "execution_count": 16,
   "id": "d1e22be0-a497-4cf2-b6c8-f59b09452af2",
   "metadata": {},
   "outputs": [
    {
     "name": "stdout",
     "output_type": "stream",
     "text": [
      "[[ 6  8]\n",
      " [10 12]]\n"
     ]
    }
   ],
   "source": [
    "#add : will add the two or more matrix\n",
    "addM = add(m1,m2)\n",
    "print(addM)"
   ]
  },
  {
   "cell_type": "code",
   "execution_count": 17,
   "id": "d9ae86a6-70c0-4e08-a80b-b37e68168b25",
   "metadata": {},
   "outputs": [
    {
     "name": "stdout",
     "output_type": "stream",
     "text": [
      "[56  7  8  9 12 45]\n"
     ]
    }
   ],
   "source": [
    "b = array([4,5,56,7,8,9,12,45])\n",
    "print(b[2:])  #starting from the 2nd element to the end"
   ]
  },
  {
   "cell_type": "code",
   "execution_count": 18,
   "id": "59b7bcca-d183-46c4-a12f-a6a2348fe2cc",
   "metadata": {},
   "outputs": [
    {
     "name": "stdout",
     "output_type": "stream",
     "text": [
      "[4 5]\n"
     ]
    }
   ],
   "source": [
    "#starting from first element to the 2-1 element\n",
    "print(b[:2])"
   ]
  },
  {
   "cell_type": "code",
   "execution_count": 19,
   "id": "feee6836-971c-40f3-97ee-e4d2c96c5743",
   "metadata": {},
   "outputs": [
    {
     "name": "stdout",
     "output_type": "stream",
     "text": [
      "[56  7  8]\n"
     ]
    }
   ],
   "source": [
    "#starting from the 2nd element to the 4th element\n",
    "print(b[2:5])"
   ]
  },
  {
   "cell_type": "code",
   "execution_count": 20,
   "id": "67a2b1ca-528b-4451-bed7-daf51cd8b689",
   "metadata": {},
   "outputs": [
    {
     "name": "stdout",
     "output_type": "stream",
     "text": [
      "[[3 4]]\n"
     ]
    }
   ],
   "source": [
    "#in the 1st matrix of m1 2 elements\n",
    "print(m1[1:2])"
   ]
  },
  {
   "cell_type": "code",
   "execution_count": 21,
   "id": "59b0896e-9de9-4225-addd-6e433ecdcef2",
   "metadata": {},
   "outputs": [
    {
     "name": "stdout",
     "output_type": "stream",
     "text": [
      "146\n"
     ]
    }
   ],
   "source": [
    "#sum of all the elements in the array\n",
    "print(b.sum())"
   ]
  },
  {
   "cell_type": "code",
   "execution_count": 22,
   "id": "f4b517f0-7eda-40b0-911d-c1d44a2087c0",
   "metadata": {},
   "outputs": [
    {
     "name": "stdout",
     "output_type": "stream",
     "text": [
      "[[1 2 3]\n",
      " [4 5 6]\n",
      " [7 8 9]]\n"
     ]
    }
   ],
   "source": [
    "c = array([1,2,3,4,5,6,7,8,9])\n",
    "#reshape : shape the array according to our choice\n",
    "print(c.reshape(3,3))"
   ]
  },
  {
   "cell_type": "code",
   "execution_count": 24,
   "id": "bf6affa7-118c-48ce-819b-66d16703a1a2",
   "metadata": {},
   "outputs": [
    {
     "name": "stdout",
     "output_type": "stream",
     "text": [
      "9\n"
     ]
    }
   ],
   "source": [
    "#max = maximum element from the array\n",
    "print(c.max())\n"
   ]
  },
  {
   "cell_type": "code",
   "execution_count": 25,
   "id": "393a9f43-d461-40d0-9441-db2c530a68f6",
   "metadata": {},
   "outputs": [
    {
     "name": "stdout",
     "output_type": "stream",
     "text": [
      "1\n"
     ]
    }
   ],
   "source": [
    "#min : minimum element from the array\n",
    "print(c.min())"
   ]
  },
  {
   "cell_type": "code",
   "execution_count": 26,
   "id": "ca6dadde-be84-48d1-8cad-8d9add739cc6",
   "metadata": {},
   "outputs": [
    {
     "name": "stdout",
     "output_type": "stream",
     "text": [
      "Max in row is :  [3 6 9]\n"
     ]
    }
   ],
   "source": [
    "#axis=1 means row wise maximum\n",
    "re = c.reshape(3,3)\n",
    "print(\"Max in row is : \",re.max(axis=1))"
   ]
  },
  {
   "cell_type": "code",
   "execution_count": 27,
   "id": "feb51082-ccac-4c2d-a893-80cabe582028",
   "metadata": {},
   "outputs": [
    {
     "name": "stdout",
     "output_type": "stream",
     "text": [
      "Min in row is :  [1 2 3]\n"
     ]
    }
   ],
   "source": [
    "#axis=0 means column wise minimum\n",
    "print(\"Min in row is : \",re.min(axis=0))"
   ]
  },
  {
   "cell_type": "code",
   "execution_count": 28,
   "id": "5d6c39cb-ccdc-4b61-b709-acc902c39715",
   "metadata": {},
   "outputs": [
    {
     "name": "stdout",
     "output_type": "stream",
     "text": [
      "[2. 3. 5.]\n"
     ]
    }
   ],
   "source": [
    "m4 = array([4,9,25])\n",
    "#sqrt : square root of the elements\n",
    "print(sqrt(m4))"
   ]
  },
  {
   "cell_type": "code",
   "execution_count": 30,
   "id": "6f7fdccc-d49f-4a3f-8b70-6d2d3c2f88bc",
   "metadata": {},
   "outputs": [
    {
     "name": "stdout",
     "output_type": "stream",
     "text": [
      "Standard deviation :  8.9566858950296\n"
     ]
    }
   ],
   "source": [
    "#std : calculates the standard deviation of given data along a specified axis.\n",
    "print(\"Standard deviation : \",std(m4))"
   ]
  },
  {
   "cell_type": "code",
   "execution_count": 31,
   "id": "b3354950-4860-45b4-99c1-8653bff9f2d8",
   "metadata": {},
   "outputs": [
    {
     "name": "stdout",
     "output_type": "stream",
     "text": [
      "[[1 2]\n",
      " [3 4]\n",
      " [5 6]\n",
      " [7 8]]\n"
     ]
    }
   ],
   "source": [
    "#vstack : arrange the array vertically\n",
    "print(vstack((m1,m2)))"
   ]
  },
  {
   "cell_type": "code",
   "execution_count": 32,
   "id": "16cf4068-d6ce-4719-ae25-795b5d0f3d9d",
   "metadata": {},
   "outputs": [
    {
     "name": "stdout",
     "output_type": "stream",
     "text": [
      "[[1 2 5 6]\n",
      " [3 4 7 8]]\n"
     ]
    }
   ],
   "source": [
    "#hstack : arrange the array horizontally\n",
    "print(hstack((m1,m2)))"
   ]
  },
  {
   "cell_type": "code",
   "execution_count": 33,
   "id": "d9c37132-cbfc-4fa1-b355-40d8cfce25dc",
   "metadata": {},
   "outputs": [
    {
     "name": "stdout",
     "output_type": "stream",
     "text": [
      "[ 0  2  4  6  8 10 12 14 16 18]\n"
     ]
    }
   ],
   "source": [
    "#arange : starting to 0 to 20 range with 2 gap\n",
    "print(arange(0,20,2))"
   ]
  },
  {
   "cell_type": "code",
   "execution_count": 34,
   "id": "fedce43f-0ed4-4011-9d5b-81e5cc8059d3",
   "metadata": {},
   "outputs": [
    {
     "name": "stdout",
     "output_type": "stream",
     "text": [
      "[ 0.  2.  4.  6.  8. 10. 12. 14. 16. 18.]\n"
     ]
    }
   ],
   "source": [
    "#in float value\n",
    "print(arange(0,20,2,float))"
   ]
  },
  {
   "cell_type": "code",
   "execution_count": 35,
   "id": "35a3ba00-5650-4c4f-86cd-c6ea57df08fb",
   "metadata": {},
   "outputs": [
    {
     "name": "stdout",
     "output_type": "stream",
     "text": [
      "[ 0.  5. 10. 15. 20.]\n"
     ]
    }
   ],
   "source": [
    "#same as arange but default in float\n",
    "print(linspace(0,20,5))"
   ]
  },
  {
   "cell_type": "code",
   "execution_count": 36,
   "id": "44aa5c95-4d7e-4ea6-9114-decc43928e2b",
   "metadata": {},
   "outputs": [
    {
     "name": "stdout",
     "output_type": "stream",
     "text": [
      "[array([1, 2, 3, 4]), array([5, 6, 7, 8])]\n"
     ]
    }
   ],
   "source": [
    "a = array([1,2,3,4,5,6,7,8])\n",
    "hnew = hsplit(a,2)\n",
    "print(hnew)"
   ]
  },
  {
   "cell_type": "code",
   "execution_count": 39,
   "id": "19cab1ff-e7cf-45a4-b53c-c663e7ae7320",
   "metadata": {},
   "outputs": [
    {
     "name": "stdout",
     "output_type": "stream",
     "text": [
      "[[1 2]\n",
      " [3 4]\n",
      " [5 6]\n",
      " [7 8]]\n",
      "[[1 2 5 6]\n",
      " [3 4 7 8]]\n"
     ]
    }
   ],
   "source": [
    "m1=array([[1,2],[3,4]])\n",
    "m2=array([[5,6],[7,8]])\n",
    "v=vstack((m1,m2)) # arrange array vertically\n",
    "print(v)\n",
    "h=hstack((m1,m2)) # horizontally\n",
    "print(h)\n"
   ]
  },
  {
   "cell_type": "code",
   "execution_count": 40,
   "id": "93358639-e3fb-475b-8bd9-ef8c1c5cbca1",
   "metadata": {},
   "outputs": [
    {
     "name": "stdout",
     "output_type": "stream",
     "text": [
      "[[1 3]\n",
      " [2 4]\n",
      " [5 7]\n",
      " [6 8]]\n"
     ]
    }
   ],
   "source": [
    "ht=h.T # swap the indices of row and column if its row then it swap to column\n",
    "print(ht)"
   ]
  },
  {
   "cell_type": "code",
   "execution_count": 41,
   "id": "e336a426-9714-418e-a886-8ce1f5e768a4",
   "metadata": {},
   "outputs": [
    {
     "name": "stdout",
     "output_type": "stream",
     "text": [
      "1\n",
      "2\n",
      "5\n",
      "6\n",
      "3\n",
      "4\n",
      "7\n",
      "8\n"
     ]
    }
   ],
   "source": [
    "for i in nditer(ht):\n",
    "    print(i)"
   ]
  },
  {
   "cell_type": "code",
   "execution_count": 42,
   "id": "4f6f3bc9-e19c-4967-b36a-a02de8a5e1b2",
   "metadata": {},
   "outputs": [
    {
     "name": "stdout",
     "output_type": "stream",
     "text": [
      "exp : [9.74480345e+09 5.83461743e+14 3.49342711e+19 1.25236317e+29]\n"
     ]
    }
   ],
   "source": [
    "arr=array([23,34,45,67])\n",
    "print(\"exp :\",exp(arr)) # return the exponential of each element"
   ]
  },
  {
   "cell_type": "code",
   "execution_count": 46,
   "id": "9d562eff-0017-4b10-b1dc-ce89b578ef91",
   "metadata": {},
   "outputs": [
    {
     "name": "stdout",
     "output_type": "stream",
     "text": [
      "sin :  [-0.8462204   0.52908269  0.85090352 -0.85551998]\n",
      "cos :  [-0.53283302 -0.84857027  0.52532199 -0.5177698 ]\n",
      "Log :  [3.13549422 3.52636052 3.80666249 4.20469262]\n"
     ]
    }
   ],
   "source": [
    "arr=array([23,34,45,67])\n",
    "print(\"sin : \",sin(arr)) #returns the sin of each element\n",
    "print(\"cos : \",cos(arr)) #returns the cosine of each element\n",
    "print(\"Log : \",log(arr)) # retuns the logaritham of each element"
   ]
  },
  {
   "cell_type": "code",
   "execution_count": 48,
   "id": "f099666b-28a5-495c-997e-2809754aed45",
   "metadata": {},
   "outputs": [],
   "source": [
    "from scipy import stats as st"
   ]
  },
  {
   "cell_type": "code",
   "execution_count": null,
   "id": "8118d3ce-9714-40c1-99e1-ec1eca15b58d",
   "metadata": {},
   "outputs": [],
   "source": [
    "print(\"mean : \",mean)"
   ]
  },
  {
   "cell_type": "code",
   "execution_count": null,
   "id": "a25d2d9f-53b2-47a3-b5ed-8c03b0e3ac8e",
   "metadata": {},
   "outputs": [],
   "source": []
  }
 ],
 "metadata": {
  "kernelspec": {
   "display_name": "Python 3 (ipykernel)",
   "language": "python",
   "name": "python3"
  },
  "language_info": {
   "codemirror_mode": {
    "name": "ipython",
    "version": 3
   },
   "file_extension": ".py",
   "mimetype": "text/x-python",
   "name": "python",
   "nbconvert_exporter": "python",
   "pygments_lexer": "ipython3",
   "version": "3.12.6"
  }
 },
 "nbformat": 4,
 "nbformat_minor": 5
}
